{
 "cells": [
  {
   "cell_type": "code",
   "execution_count": 1,
   "id": "263930d5",
   "metadata": {
    "execution": {
     "iopub.execute_input": "2022-03-28T16:17:08.687563Z",
     "iopub.status.busy": "2022-03-28T16:17:08.686848Z",
     "iopub.status.idle": "2022-03-28T16:17:16.283231Z",
     "shell.execute_reply": "2022-03-28T16:17:16.283767Z"
    },
    "papermill": {
     "duration": 7.616945,
     "end_time": "2022-03-28T16:17:16.283964",
     "exception": false,
     "start_time": "2022-03-28T16:17:08.667019",
     "status": "completed"
    },
    "tags": []
   },
   "outputs": [],
   "source": [
    "import os\n",
    "import numpy as np\n",
    "import pandas as pd\n",
    "import soundfile as sf\n",
    "from joblib import Parallel, delayed\n",
    "from tqdm import tqdm"
   ]
  },
  {
   "cell_type": "code",
   "execution_count": 2,
   "id": "fb2982a8",
   "metadata": {
    "execution": {
     "iopub.execute_input": "2022-03-28T16:17:16.308637Z",
     "iopub.status.busy": "2022-03-28T16:17:16.302691Z",
     "iopub.status.idle": "2022-03-28T16:17:16.431131Z",
     "shell.execute_reply": "2022-03-28T16:17:16.430098Z"
    },
    "papermill": {
     "duration": 0.139404,
     "end_time": "2022-03-28T16:17:16.431329",
     "exception": false,
     "start_time": "2022-03-28T16:17:16.291925",
     "status": "completed"
    },
    "tags": []
   },
   "outputs": [],
   "source": [
    "SR = 32000\n",
    "USE_SEC = 30 # 60 # 90 # 60\n",
    "\n",
    "def Audio_to_Array(path):\n",
    "    y, sr = sf.read(path, always_2d=True)\n",
    "    y = np.mean(y, 1) # there is (X, 2) array\n",
    "    if len(y) > SR:\n",
    "        y = y[SR:-SR]\n",
    "\n",
    "    if len(y) > SR * USE_SEC:\n",
    "        y = y[:SR * USE_SEC]\n",
    "    return y\n",
    "\n",
    "def save_(path):\n",
    "    save_path = \"train_np/\" + \"/\".join(path.split('/')[-2:])\n",
    "    np.save(save_path, Audio_to_Array(path))\n",
    "\n",
    "\n",
    "AUDIO_PATH = 'input/birdclef-2022/train_audio'\n",
    "\n",
    "\n",
    "train = pd.read_csv('input/birdclef-2022/train_metadata.csv')\n",
    "train[\"file_path\"] = AUDIO_PATH + '/' + train['filename']\n",
    "paths = train[\"file_path\"].values"
   ]
  },
  {
   "cell_type": "code",
   "execution_count": 3,
   "id": "de4445d1",
   "metadata": {
    "execution": {
     "iopub.execute_input": "2022-03-28T16:17:16.451954Z",
     "iopub.status.busy": "2022-03-28T16:17:16.451043Z",
     "iopub.status.idle": "2022-03-28T16:17:16.453730Z",
     "shell.execute_reply": "2022-03-28T16:17:16.454243Z"
    },
    "papermill": {
     "duration": 0.015446,
     "end_time": "2022-03-28T16:17:16.454431",
     "exception": false,
     "start_time": "2022-03-28T16:17:16.438985",
     "status": "completed"
    },
    "tags": []
   },
   "outputs": [],
   "source": [
    "i = 1\n",
    "step = int(len(paths)/4)\n",
    "# paths[step * i:step * (i+1)]"
   ]
  },
  {
   "cell_type": "code",
   "execution_count": 4,
   "id": "6bf6f8b7",
   "metadata": {
    "execution": {
     "iopub.execute_input": "2022-03-28T16:17:16.477046Z",
     "iopub.status.busy": "2022-03-28T16:17:16.476176Z",
     "iopub.status.idle": "2022-03-28T16:20:02.103244Z",
     "shell.execute_reply": "2022-03-28T16:20:02.101417Z"
    },
    "papermill": {
     "duration": 165.641207,
     "end_time": "2022-03-28T16:20:02.103447",
     "exception": false,
     "start_time": "2022-03-28T16:17:16.462240",
     "status": "completed"
    },
    "tags": []
   },
   "outputs": [
    {
     "name": "stderr",
     "output_type": "stream",
     "text": [
      "100%|██████████| 152/152 [00:00<00:00, 44001.26it/s]\n",
      "100%|██████████| 3713/3713 [01:44<00:00, 35.45it/s]\n"
     ]
    }
   ],
   "source": [
    "NUM_WORKERS = 4\n",
    "CLASSES = sorted(os.listdir(AUDIO_PATH))\n",
    "\n",
    "for dir_ in tqdm(CLASSES):\n",
    "    _ = os.makedirs('train_np/' + dir_, exist_ok=True)\n",
    "_ = Parallel(n_jobs=NUM_WORKERS)(delayed(save_)(AUDIO_PATH) for AUDIO_PATH in tqdm(paths[step * i:step * (i+1)]))"
   ]
  },
  {
   "cell_type": "code",
   "execution_count": null,
   "id": "b31700ec",
   "metadata": {
    "papermill": {
     "duration": 0.160744,
     "end_time": "2022-03-28T16:20:02.428054",
     "exception": false,
     "start_time": "2022-03-28T16:20:02.267310",
     "status": "completed"
    },
    "tags": []
   },
   "outputs": [],
   "source": []
  }
 ],
 "metadata": {
  "interpreter": {
   "hash": "c225ec2346191597b6cb8b16978503570c5bb8a5bcfa494119490f978017abb8"
  },
  "kernelspec": {
   "display_name": "Python 3.9.7 ('AudioML')",
   "language": "python",
   "name": "python3"
  },
  "language_info": {
   "codemirror_mode": {
    "name": "ipython",
    "version": 3
   },
   "file_extension": ".py",
   "mimetype": "text/x-python",
   "name": "python",
   "nbconvert_exporter": "python",
   "pygments_lexer": "ipython3",
   "version": "3.9.7"
  },
  "papermill": {
   "default_parameters": {},
   "duration": 197.511344,
   "end_time": "2022-03-28T16:20:04.310508",
   "environment_variables": {},
   "exception": null,
   "input_path": "__notebook__.ipynb",
   "output_path": "__notebook__.ipynb",
   "parameters": {},
   "start_time": "2022-03-28T16:16:46.799164",
   "version": "2.3.3"
  }
 },
 "nbformat": 4,
 "nbformat_minor": 5
}
