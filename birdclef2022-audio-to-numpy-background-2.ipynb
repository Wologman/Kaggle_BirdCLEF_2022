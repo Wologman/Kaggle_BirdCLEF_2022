{
 "cells": [
  {
   "cell_type": "code",
   "execution_count": 1,
   "id": "6cbee74c",
   "metadata": {
    "execution": {
     "iopub.execute_input": "2022-04-10T13:09:34.457709Z",
     "iopub.status.busy": "2022-04-10T13:09:34.457024Z",
     "iopub.status.idle": "2022-04-10T13:09:41.212567Z",
     "shell.execute_reply": "2022-04-10T13:09:41.211550Z"
    },
    "papermill": {
     "duration": 6.768739,
     "end_time": "2022-04-10T13:09:41.212717",
     "exception": false,
     "start_time": "2022-04-10T13:09:34.443978",
     "status": "completed"
    },
    "tags": []
   },
   "outputs": [],
   "source": [
    "#Convert the AIcrowd files to numpy arrays\n",
    "\n",
    "import os\n",
    "import numpy as np\n",
    "import pandas as pd\n",
    "import soundfile as sf\n",
    "from tqdm import tqdm"
   ]
  },
  {
   "cell_type": "code",
   "execution_count": 2,
   "id": "5296074d",
   "metadata": {
    "execution": {
     "iopub.execute_input": "2022-04-10T13:09:41.232500Z",
     "iopub.status.busy": "2022-04-10T13:09:41.231851Z",
     "iopub.status.idle": "2022-04-10T13:09:41.347167Z",
     "shell.execute_reply": "2022-04-10T13:09:41.346593Z"
    },
    "papermill": {
     "duration": 0.128745,
     "end_time": "2022-04-10T13:09:41.347303",
     "exception": false,
     "start_time": "2022-04-10T13:09:41.218558",
     "status": "completed"
    },
    "tags": []
   },
   "outputs": [],
   "source": [
    "SR = 32000\n",
    "USE_SEC = 30 # 60 # 90 # 60\n",
    "\n",
    "def Audio_to_Array(path):\n",
    "    y, sr = sf.read(path, always_2d=True)\n",
    "    y = np.mean(y, 1) # there is (X, 2) array\n",
    "    if len(y) > SR:\n",
    "        y = y[SR:-SR]\n",
    "\n",
    "    if len(y) > SR * USE_SEC:\n",
    "        y = y[:SR * USE_SEC]\n",
    "    return y\n",
    "\n",
    "def save(path):\n",
    "    save_path = \"/home/olly/Documents/Kaggle_BirdCLEF_2022/input/background_np_2/\" + \"/\".join(path.split('/')[-1:])\n",
    "    np.save(save_path, Audio_to_Array(path))\n",
    "\n",
    "AUDIO_PATH = '/home/olly/Documents/Kaggle_BirdCLEF_2022/input/backround/ff1010bird_nocall/nocall/'\n",
    "#train = pd.read_csv('input/birdclef-2022/train_metadata.csv')\n",
    "#train[\"file_path\"] = AUDIO_PATH + '/' + train['filename']\n",
    "paths = os.listdir(AUDIO_PATH)"
   ]
  },
  {
   "cell_type": "code",
   "execution_count": 3,
   "id": "d559ee85",
   "metadata": {
    "execution": {
     "iopub.execute_input": "2022-04-10T13:09:41.364549Z",
     "iopub.status.busy": "2022-04-10T13:09:41.363644Z",
     "iopub.status.idle": "2022-04-10T13:09:41.366696Z",
     "shell.execute_reply": "2022-04-10T13:09:41.366130Z"
    },
    "papermill": {
     "duration": 0.013675,
     "end_time": "2022-04-10T13:09:41.366862",
     "exception": false,
     "start_time": "2022-04-10T13:09:41.353187",
     "status": "completed"
    },
    "tags": []
   },
   "outputs": [
    {
     "name": "stderr",
     "output_type": "stream",
     "text": [
      "100%|██████████| 5755/5755 [01:01<00:00, 93.83it/s] \n"
     ]
    }
   ],
   "source": [
    "for path in tqdm(sorted(paths)):\n",
    "    full_path = AUDIO_PATH + path\n",
    "    save(full_path)\n"
   ]
  }
 ],
 "metadata": {
  "interpreter": {
   "hash": "ccd939c93ab068b4b58227f04d922ef82bb8e88e5b6f5613cfc27fa317c2006f"
  },
  "kernelspec": {
   "display_name": "Python 3.9.1 ('AudioML_3060')",
   "language": "python",
   "name": "python3"
  },
  "language_info": {
   "codemirror_mode": {
    "name": "ipython",
    "version": 3
   },
   "file_extension": ".py",
   "mimetype": "text/x-python",
   "name": "python",
   "nbconvert_exporter": "python",
   "pygments_lexer": "ipython3",
   "version": "3.9.1"
  },
  "papermill": {
   "default_parameters": {},
   "duration": 185.798673,
   "end_time": "2022-04-10T13:12:22.793002",
   "environment_variables": {},
   "exception": null,
   "input_path": "__notebook__.ipynb",
   "output_path": "__notebook__.ipynb",
   "parameters": {},
   "start_time": "2022-04-10T13:09:16.994329",
   "version": "2.3.3"
  }
 },
 "nbformat": 4,
 "nbformat_minor": 5
}
