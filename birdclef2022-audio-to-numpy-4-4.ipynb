{
 "cells": [
  {
   "cell_type": "code",
   "execution_count": 7,
   "id": "329ac2fa",
   "metadata": {
    "execution": {
     "iopub.execute_input": "2022-03-28T16:16:21.132409Z",
     "iopub.status.busy": "2022-03-28T16:16:21.131613Z",
     "iopub.status.idle": "2022-03-28T16:16:28.361000Z",
     "shell.execute_reply": "2022-03-28T16:16:28.360426Z"
    },
    "papermill": {
     "duration": 7.246715,
     "end_time": "2022-03-28T16:16:28.361160",
     "exception": false,
     "start_time": "2022-03-28T16:16:21.114445",
     "status": "completed"
    },
    "tags": []
   },
   "outputs": [],
   "source": [
    "import os\n",
    "import numpy as np\n",
    "import pandas as pd\n",
    "import soundfile as sf\n",
    "from joblib import Parallel, delayed\n",
    "from tqdm import tqdm"
   ]
  },
  {
   "cell_type": "code",
   "execution_count": 8,
   "id": "ac620652",
   "metadata": {
    "execution": {
     "iopub.execute_input": "2022-03-28T16:16:28.386535Z",
     "iopub.status.busy": "2022-03-28T16:16:28.385758Z",
     "iopub.status.idle": "2022-03-28T16:16:28.503326Z",
     "shell.execute_reply": "2022-03-28T16:16:28.502775Z"
    },
    "papermill": {
     "duration": 0.134316,
     "end_time": "2022-03-28T16:16:28.503496",
     "exception": false,
     "start_time": "2022-03-28T16:16:28.369180",
     "status": "completed"
    },
    "tags": []
   },
   "outputs": [],
   "source": [
    "SR = 32000\n",
    "USE_SEC = 30 # 60 # 90 # 60\n",
    "\n",
    "def Audio_to_Array(path):\n",
    "    y, sr = sf.read(path, always_2d=True)\n",
    "    y = np.mean(y, 1) # there is (X, 2) array\n",
    "    if len(y) > SR:\n",
    "        y = y[SR:-SR]\n",
    "\n",
    "    if len(y) > SR * USE_SEC:\n",
    "        y = y[:SR * USE_SEC]\n",
    "    return y\n",
    "\n",
    "def save_(path):\n",
    "    save_path = \"train_np/\" + \"/\".join(path.split('/')[-2:])\n",
    "    np.save(save_path, Audio_to_Array(path))\n",
    "\n",
    "\n",
    "AUDIO_PATH = 'input/birdclef-2022/train_audio'\n",
    "\n",
    "\n",
    "train = pd.read_csv('input/birdclef-2022/train_metadata.csv')\n",
    "train[\"file_path\"] = AUDIO_PATH + '/' + train['filename']\n",
    "paths = train[\"file_path\"].values"
   ]
  },
  {
   "cell_type": "code",
   "execution_count": 9,
   "id": "cbdf4067",
   "metadata": {
    "execution": {
     "iopub.execute_input": "2022-03-28T16:16:28.526535Z",
     "iopub.status.busy": "2022-03-28T16:16:28.525878Z",
     "iopub.status.idle": "2022-03-28T16:16:28.531441Z",
     "shell.execute_reply": "2022-03-28T16:16:28.531942Z"
    },
    "papermill": {
     "duration": 0.021165,
     "end_time": "2022-03-28T16:16:28.532241",
     "exception": false,
     "start_time": "2022-03-28T16:16:28.511076",
     "status": "completed"
    },
    "tags": []
   },
   "outputs": [
    {
     "data": {
      "text/plain": [
       "3713"
      ]
     },
     "execution_count": 9,
     "metadata": {},
     "output_type": "execute_result"
    }
   ],
   "source": [
    "i = 3\n",
    "step = int(len(paths)/4)\n",
    "step\n",
    "# paths[step * i:step * (i+1)]"
   ]
  },
  {
   "cell_type": "code",
   "execution_count": 10,
   "id": "01ea7b34",
   "metadata": {
    "execution": {
     "iopub.execute_input": "2022-03-28T16:16:28.555595Z",
     "iopub.status.busy": "2022-03-28T16:16:28.554917Z",
     "iopub.status.idle": "2022-03-28T16:19:13.483362Z",
     "shell.execute_reply": "2022-03-28T16:19:13.481493Z"
    },
    "papermill": {
     "duration": 164.943094,
     "end_time": "2022-03-28T16:19:13.483560",
     "exception": false,
     "start_time": "2022-03-28T16:16:28.540466",
     "status": "completed"
    },
    "tags": []
   },
   "outputs": [
    {
     "name": "stderr",
     "output_type": "stream",
     "text": [
      "100%|██████████| 152/152 [00:00<00:00, 12241.21it/s]\n",
      "100%|██████████| 3713/3713 [02:08<00:00, 28.85it/s]\n"
     ]
    }
   ],
   "source": [
    "NUM_WORKERS = 4\n",
    "CLASSES = sorted(os.listdir(AUDIO_PATH))\n",
    "\n",
    "for dir_ in tqdm(CLASSES):\n",
    "    _ = os.makedirs('train_np/' + dir_, exist_ok=True)\n",
    "_ = Parallel(n_jobs=NUM_WORKERS)(delayed(save_)(AUDIO_PATH) for AUDIO_PATH in tqdm(paths[step * i:step * (i+1)]))"
   ]
  },
  {
   "cell_type": "code",
   "execution_count": null,
   "id": "a7f51a1e",
   "metadata": {
    "papermill": {
     "duration": 0.184092,
     "end_time": "2022-03-28T16:19:13.848525",
     "exception": false,
     "start_time": "2022-03-28T16:19:13.664433",
     "status": "completed"
    },
    "tags": []
   },
   "outputs": [],
   "source": []
  }
 ],
 "metadata": {
  "interpreter": {
   "hash": "c225ec2346191597b6cb8b16978503570c5bb8a5bcfa494119490f978017abb8"
  },
  "kernelspec": {
   "display_name": "Python 3.9.7 ('AudioML')",
   "language": "python",
   "name": "python3"
  },
  "language_info": {
   "codemirror_mode": {
    "name": "ipython",
    "version": 3
   },
   "file_extension": ".py",
   "mimetype": "text/x-python",
   "name": "python",
   "nbconvert_exporter": "python",
   "pygments_lexer": "ipython3",
   "version": "3.9.7"
  },
  "papermill": {
   "default_parameters": {},
   "duration": 195.248112,
   "end_time": "2022-03-28T16:19:15.547617",
   "environment_variables": {},
   "exception": null,
   "input_path": "__notebook__.ipynb",
   "output_path": "__notebook__.ipynb",
   "parameters": {},
   "start_time": "2022-03-28T16:16:00.299505",
   "version": "2.3.3"
  }
 },
 "nbformat": 4,
 "nbformat_minor": 5
}
