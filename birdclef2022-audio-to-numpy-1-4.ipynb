{
 "cells": [
  {
   "cell_type": "code",
   "execution_count": 2,
   "id": "6cbee74c",
   "metadata": {
    "execution": {
     "iopub.execute_input": "2022-04-10T13:09:34.457709Z",
     "iopub.status.busy": "2022-04-10T13:09:34.457024Z",
     "iopub.status.idle": "2022-04-10T13:09:41.212567Z",
     "shell.execute_reply": "2022-04-10T13:09:41.211550Z"
    },
    "papermill": {
     "duration": 6.768739,
     "end_time": "2022-04-10T13:09:41.212717",
     "exception": false,
     "start_time": "2022-04-10T13:09:34.443978",
     "status": "completed"
    },
    "tags": []
   },
   "outputs": [],
   "source": [
    "import os\n",
    "import numpy as np\n",
    "import pandas as pd\n",
    "import soundfile as sf\n",
    "from joblib import Parallel, delayed\n",
    "from tqdm import tqdm"
   ]
  },
  {
   "cell_type": "code",
   "execution_count": 8,
   "id": "5296074d",
   "metadata": {
    "execution": {
     "iopub.execute_input": "2022-04-10T13:09:41.232500Z",
     "iopub.status.busy": "2022-04-10T13:09:41.231851Z",
     "iopub.status.idle": "2022-04-10T13:09:41.347167Z",
     "shell.execute_reply": "2022-04-10T13:09:41.346593Z"
    },
    "papermill": {
     "duration": 0.128745,
     "end_time": "2022-04-10T13:09:41.347303",
     "exception": false,
     "start_time": "2022-04-10T13:09:41.218558",
     "status": "completed"
    },
    "tags": []
   },
   "outputs": [],
   "source": [
    "SR = 32000\n",
    "USE_SEC = 30 # 60 # 90 # 60\n",
    "\n",
    "def Audio_to_Array(path):\n",
    "    y, sr = sf.read(path, always_2d=True)\n",
    "    y = np.mean(y, 1) # there is (X, 2) array\n",
    "    if len(y) > SR:\n",
    "        y = y[SR:-SR]\n",
    "\n",
    "    if len(y) > SR * USE_SEC:\n",
    "        y = y[:SR * USE_SEC]\n",
    "    return y\n",
    "\n",
    "def save_(path):\n",
    "    save_path = \"train_np/\" + \"/\".join(path.split('/')[-2:])\n",
    "    np.save(save_path, Audio_to_Array(path))\n",
    "\n",
    "\n",
    "AUDIO_PATH = 'input/birdclef-2022/train_audio'   # removed the ../\n",
    "\n",
    "\n",
    "train = pd.read_csv('input/birdclef-2022/train_metadata.csv')\n",
    "train[\"file_path\"] = AUDIO_PATH + '/' + train['filename']\n",
    "paths = train[\"file_path\"].values"
   ]
  },
  {
   "cell_type": "code",
   "execution_count": 9,
   "id": "d559ee85",
   "metadata": {
    "execution": {
     "iopub.execute_input": "2022-04-10T13:09:41.364549Z",
     "iopub.status.busy": "2022-04-10T13:09:41.363644Z",
     "iopub.status.idle": "2022-04-10T13:09:41.366696Z",
     "shell.execute_reply": "2022-04-10T13:09:41.366130Z"
    },
    "papermill": {
     "duration": 0.013675,
     "end_time": "2022-04-10T13:09:41.366862",
     "exception": false,
     "start_time": "2022-04-10T13:09:41.353187",
     "status": "completed"
    },
    "tags": []
   },
   "outputs": [],
   "source": [
    "i = 0 # 1\n",
    "step = int(len(paths)/4)\n",
    "# paths[step * i:step * (i+1)]"
   ]
  },
  {
   "cell_type": "code",
   "execution_count": 11,
   "id": "934c8b1d",
   "metadata": {
    "execution": {
     "iopub.execute_input": "2022-04-10T13:09:41.384447Z",
     "iopub.status.busy": "2022-04-10T13:09:41.383778Z",
     "iopub.status.idle": "2022-04-10T13:12:21.055878Z",
     "shell.execute_reply": "2022-04-10T13:12:21.055058Z"
    },
    "papermill": {
     "duration": 159.68316,
     "end_time": "2022-04-10T13:12:21.056090",
     "exception": false,
     "start_time": "2022-04-10T13:09:41.372930",
     "status": "completed"
    },
    "tags": []
   },
   "outputs": [
    {
     "name": "stderr",
     "output_type": "stream",
     "text": [
      "100%|██████████| 152/152 [00:00<00:00, 149095.93it/s]\n",
      "100%|██████████| 3713/3713 [02:13<00:00, 27.84it/s]\n"
     ]
    }
   ],
   "source": [
    "NUM_WORKERS = 4\n",
    "CLASSES = sorted(os.listdir(AUDIO_PATH))\n",
    "\n",
    "for dir_ in tqdm(CLASSES):\n",
    "    _ = os.makedirs('train_np/' + dir_, exist_ok=True)\n",
    "_ = Parallel(n_jobs=NUM_WORKERS)(delayed(save_)(AUDIO_PATH) for AUDIO_PATH in tqdm(paths[step * i:step * (i+1)]))"
   ]
  },
  {
   "cell_type": "code",
   "execution_count": null,
   "id": "f1486780",
   "metadata": {
    "papermill": {
     "duration": 0.103911,
     "end_time": "2022-04-10T13:12:21.271582",
     "exception": false,
     "start_time": "2022-04-10T13:12:21.167671",
     "status": "completed"
    },
    "tags": []
   },
   "outputs": [],
   "source": []
  }
 ],
 "metadata": {
  "interpreter": {
   "hash": "c225ec2346191597b6cb8b16978503570c5bb8a5bcfa494119490f978017abb8"
  },
  "kernelspec": {
   "display_name": "Python 3.9.7 ('AudioML')",
   "language": "python",
   "name": "python3"
  },
  "language_info": {
   "codemirror_mode": {
    "name": "ipython",
    "version": 3
   },
   "file_extension": ".py",
   "mimetype": "text/x-python",
   "name": "python",
   "nbconvert_exporter": "python",
   "pygments_lexer": "ipython3",
   "version": "3.9.7"
  },
  "papermill": {
   "default_parameters": {},
   "duration": 185.798673,
   "end_time": "2022-04-10T13:12:22.793002",
   "environment_variables": {},
   "exception": null,
   "input_path": "__notebook__.ipynb",
   "output_path": "__notebook__.ipynb",
   "parameters": {},
   "start_time": "2022-04-10T13:09:16.994329",
   "version": "2.3.3"
  }
 },
 "nbformat": 4,
 "nbformat_minor": 5
}
