{
 "cells": [
  {
   "cell_type": "code",
   "execution_count": 11,
   "id": "9e4b75dd",
   "metadata": {
    "execution": {
     "iopub.execute_input": "2022-03-28T16:18:23.730800Z",
     "iopub.status.busy": "2022-03-28T16:18:23.729676Z",
     "iopub.status.idle": "2022-03-28T16:18:30.973925Z",
     "shell.execute_reply": "2022-03-28T16:18:30.973184Z"
    },
    "papermill": {
     "duration": 7.266703,
     "end_time": "2022-03-28T16:18:30.974084",
     "exception": false,
     "start_time": "2022-03-28T16:18:23.707381",
     "status": "completed"
    },
    "tags": []
   },
   "outputs": [],
   "source": [
    "import os\n",
    "import numpy as np\n",
    "import pandas as pd\n",
    "import soundfile as sf\n",
    "from joblib import Parallel, delayed\n",
    "from tqdm import tqdm"
   ]
  },
  {
   "cell_type": "code",
   "execution_count": 12,
   "id": "a3ef4709",
   "metadata": {
    "execution": {
     "iopub.execute_input": "2022-03-28T16:18:30.992398Z",
     "iopub.status.busy": "2022-03-28T16:18:30.991693Z",
     "iopub.status.idle": "2022-03-28T16:18:31.117670Z",
     "shell.execute_reply": "2022-03-28T16:18:31.117061Z"
    },
    "papermill": {
     "duration": 0.136158,
     "end_time": "2022-03-28T16:18:31.117857",
     "exception": false,
     "start_time": "2022-03-28T16:18:30.981699",
     "status": "completed"
    },
    "tags": []
   },
   "outputs": [],
   "source": [
    "SR = 32000\n",
    "USE_SEC = 30 # 90 # 60\n",
    "\n",
    "def Audio_to_Array(path):\n",
    "    y, sr = sf.read(path, always_2d=True)\n",
    "    y = np.mean(y, 1) # there is (X, 2) array\n",
    "    if len(y) > SR:\n",
    "        y = y[SR:-SR]\n",
    "\n",
    "    if len(y) > SR * USE_SEC:\n",
    "        y = y[:SR * USE_SEC]\n",
    "    return y\n",
    "\n",
    "def save_(path):\n",
    "    save_path = \"train_np/\" + \"/\".join(path.split('/')[-2:])\n",
    "    np.save(save_path, Audio_to_Array(path))\n",
    "\n",
    "\n",
    "AUDIO_PATH = 'input/birdclef-2022/train_audio'\n",
    "\n",
    "\n",
    "train = pd.read_csv('input/birdclef-2022/train_metadata.csv')\n",
    "train[\"file_path\"] = AUDIO_PATH + '/' + train['filename']\n",
    "paths = train[\"file_path\"].values"
   ]
  },
  {
   "cell_type": "code",
   "execution_count": 13,
   "id": "fb29bbec",
   "metadata": {
    "execution": {
     "iopub.execute_input": "2022-03-28T16:18:31.138199Z",
     "iopub.status.busy": "2022-03-28T16:18:31.137221Z",
     "iopub.status.idle": "2022-03-28T16:18:31.140200Z",
     "shell.execute_reply": "2022-03-28T16:18:31.139623Z"
    },
    "papermill": {
     "duration": 0.014951,
     "end_time": "2022-03-28T16:18:31.140360",
     "exception": false,
     "start_time": "2022-03-28T16:18:31.125409",
     "status": "completed"
    },
    "tags": []
   },
   "outputs": [],
   "source": [
    "i = 2\n",
    "step = int(len(paths)/4)\n",
    "# paths[step * i:step * (i+1)]"
   ]
  },
  {
   "cell_type": "code",
   "execution_count": 14,
   "id": "9d527bfc",
   "metadata": {
    "execution": {
     "iopub.execute_input": "2022-03-28T16:18:31.159653Z",
     "iopub.status.busy": "2022-03-28T16:18:31.159024Z",
     "iopub.status.idle": "2022-03-28T16:21:23.778728Z",
     "shell.execute_reply": "2022-03-28T16:21:23.777947Z"
    },
    "papermill": {
     "duration": 172.630713,
     "end_time": "2022-03-28T16:21:23.778916",
     "exception": false,
     "start_time": "2022-03-28T16:18:31.148203",
     "status": "completed"
    },
    "tags": []
   },
   "outputs": [
    {
     "name": "stderr",
     "output_type": "stream",
     "text": [
      "100%|██████████| 152/152 [00:00<00:00, 29705.26it/s]\n",
      "100%|██████████| 3713/3713 [02:07<00:00, 29.15it/s]\n"
     ]
    }
   ],
   "source": [
    "NUM_WORKERS = 4\n",
    "CLASSES = sorted(os.listdir(AUDIO_PATH))\n",
    "\n",
    "for dir_ in tqdm(CLASSES):\n",
    "    _ = os.makedirs('train_np/' + dir_, exist_ok=True)\n",
    "_ = Parallel(n_jobs=NUM_WORKERS)(delayed(save_)(AUDIO_PATH) for AUDIO_PATH in tqdm(paths[step * i:step * (i+1)]))"
   ]
  },
  {
   "cell_type": "code",
   "execution_count": null,
   "id": "0b8391dc",
   "metadata": {
    "papermill": {
     "duration": 2.106917,
     "end_time": "2022-03-28T16:21:26.040075",
     "exception": false,
     "start_time": "2022-03-28T16:21:23.933158",
     "status": "completed"
    },
    "tags": []
   },
   "outputs": [],
   "source": []
  }
 ],
 "metadata": {
  "interpreter": {
   "hash": "c225ec2346191597b6cb8b16978503570c5bb8a5bcfa494119490f978017abb8"
  },
  "kernelspec": {
   "display_name": "Python 3.9.7 ('AudioML')",
   "language": "python",
   "name": "python3"
  },
  "language_info": {
   "codemirror_mode": {
    "name": "ipython",
    "version": 3
   },
   "file_extension": ".py",
   "mimetype": "text/x-python",
   "name": "python",
   "nbconvert_exporter": "python",
   "pygments_lexer": "ipython3",
   "version": "3.9.7"
  },
  "papermill": {
   "default_parameters": {},
   "duration": 205.054489,
   "end_time": "2022-03-28T16:21:27.729070",
   "environment_variables": {},
   "exception": null,
   "input_path": "__notebook__.ipynb",
   "output_path": "__notebook__.ipynb",
   "parameters": {},
   "start_time": "2022-03-28T16:18:02.674581",
   "version": "2.3.3"
  }
 },
 "nbformat": 4,
 "nbformat_minor": 5
}
